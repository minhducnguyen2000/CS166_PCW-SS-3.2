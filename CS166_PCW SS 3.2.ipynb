{
 "cells": [
  {
   "cell_type": "markdown",
   "metadata": {},
   "source": [
    "### Excercise 11.3"
   ]
  },
  {
   "cell_type": "code",
   "execution_count": 3,
   "metadata": {},
   "outputs": [],
   "source": [
    "import matplotlib.pyplot as plt\n",
    "%matplotlib inline\n",
    "# matplotlib.use('TkAgg')\n",
    "import pylab\n",
    "\n",
    "n = 100 # size of space: n x n\n",
    "p = 0.1 # probability of initially panicky individuals\n",
    "\n",
    "def initialize():\n",
    "    global config, nextconfig, density_of_1s\n",
    "    config = pylab.zeros([n, n])\n",
    "    density_of_1s = []\n",
    "    for x in range(n):\n",
    "        for y in range(n):\n",
    "            config[x, y] = 1 if pylab.random() < p else 0\n",
    "    nextconfig = pylab.zeros([n, n])\n",
    "    \n",
    "def observe():\n",
    "    global config, nextconfig, density_of_1s\n",
    "    pylab.cla()\n",
    "    pylab.subplot(1,3,1)\n",
    "    pylab.imshow(config, vmin = 0, vmax = 1, cmap = pylab.cm.binary)\n",
    "    pylab.subplot(1,3,3) \n",
    "    plt.plot(density_of_1s)\n",
    "    plt.show()\n",
    "\n",
    "def update():\n",
    "    global config, nextconfig, density_of_1s\n",
    "    for x in range(n):\n",
    "        for y in range(n):\n",
    "            count = 0\n",
    "            for dx in [-1, 0, 1]:\n",
    "                for dy in [-1, 0, 1]:\n",
    "                    count += config[(x + dx) % n, (y + dy) % n]\n",
    "            nextconfig[x, y] = 1 if count >= 4 else 0\n",
    "    config, nextconfig = nextconfig, config\n",
    "    density_of_1s.append((config == 1).sum()/(n*n))"
   ]
  },
  {
   "cell_type": "code",
   "execution_count": 4,
   "metadata": {},
   "outputs": [
    {
     "data": {
      "image/png": "[encoded data removed]",
      "text/plain": [
       "<Figure size 432x288 with 2 Axes>"
      ]
     },
     "metadata": {
      "needs_background": "light"
     },
     "output_type": "display_data"
    }
   ],
   "source": [
    "initialize()\n",
    "for i in range(10):\n",
    "    update()\n",
    "observe()"
   ]
  },
  {
   "cell_type": "markdown",
   "metadata": {},
   "source": [
    "### Excercise 11.5"
   ]
  },
  {
   "cell_type": "code",
   "execution_count": 5,
   "metadata": {},
   "outputs": [],
   "source": [
    "import matplotlib.pyplot as plt\n",
    "%matplotlib inline\n",
    "import pylab\n",
    "\n",
    "def initialize(p=0.1):\n",
    "    \"\"\"\n",
    "    p: probability of initially panicky individuals\n",
    "    \"\"\"\n",
    "    global config, nextconfig, density_of_1s\n",
    "    config = pylab.zeros([n, n])\n",
    "    density_of_1s = []\n",
    "    for x in range(n):\n",
    "        for y in range(n):\n",
    "            config[x, y] = 1 if pylab.random() < p else 0\n",
    "    nextconfig = pylab.zeros([n, n])\n",
    "    \n",
    "def observe():\n",
    "    global config, nextconfig, density_of_1s\n",
    "    pylab.cla()\n",
    "    pylab.subplot(1,3,1)\n",
    "    pylab.imshow(config, vmin = 0, vmax = 1, cmap = pylab.cm.binary)\n",
    "    pylab.subplot(1,3,3) \n",
    "    plt.plot(density_of_1s)\n",
    "    plt.show()\n",
    "\n",
    "\n",
    "def update():\n",
    "    global config, nextconfig, density_of_1s\n",
    "    for x in range(n):\n",
    "        for y in range(n):\n",
    "            count = 0\n",
    "            for dx in [-1, 0, 1]:\n",
    "                for dy in [-1, 0, 1]:\n",
    "                    count += config[(x + dx) % n, (y + dy) % n]\n",
    "            nextconfig[x, y] = 1 if count >= 4 else 0\n",
    "    config, nextconfig = nextconfig, config\n",
    "    density_of_1s.append((config == 1).sum()/(n*n))"
   ]
  },
  {
   "cell_type": "code",
   "execution_count": 7,
   "metadata": {},
   "outputs": [
    {
     "data": {
      "image/png": "[encoded data removed]",
      "text/plain": [
       "<Figure size 432x288 with 2 Axes>"
      ]
     },
     "metadata": {
      "needs_background": "light"
     },
     "output_type": "display_data"
    }
   ],
   "source": [
    "n = 100 # size of space: n x n\n",
    "p = 0.45 # probability of initially panicky individuals\n",
    "initialize(p)\n",
    "\n",
    "for i in range(100):\n",
    "    update()\n",
    "observe()"
   ]
  },
  {
   "cell_type": "code",
   "execution_count": 8,
   "metadata": {},
   "outputs": [
    {
     "data": {
      "image/png": "[encoded data removed]",
      "text/plain": [
       "<Figure size 432x288 with 2 Axes>"
      ]
     },
     "metadata": {
      "needs_background": "light"
     },
     "output_type": "display_data"
    }
   ],
   "source": [
    "n = 100 # size of space: n x n\n",
    "p = 0.25 # probability of initially panicky individuals\n",
    "initialize(p)\n",
    "\n",
    "for i in range(100):\n",
    "    update()\n",
    "observe()"
   ]
  },
  {
   "cell_type": "code",
   "execution_count": null,
   "metadata": {},
   "outputs": [],
   "source": []
  }
 ],
 "metadata": {
  "kernelspec": {
   "display_name": "Python 3",
   "language": "python",
   "name": "python3"
  },
  "language_info": {
   "codemirror_mode": {
    "name": "ipython",
    "version": 3
   },
   "file_extension": ".py",
   "mimetype": "text/x-python",
   "name": "python",
   "nbconvert_exporter": "python",
   "pygments_lexer": "ipython3",
   "version": "3.7.3"
  }
 },
 "nbformat": 4,
 "nbformat_minor": 2
}
